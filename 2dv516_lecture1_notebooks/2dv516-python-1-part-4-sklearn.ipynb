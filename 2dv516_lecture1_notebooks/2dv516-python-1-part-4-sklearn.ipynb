{
 "cells": [
  {
   "cell_type": "markdown",
   "metadata": {},
   "source": [
    "# Scikit-Learn\n",
    "\n",
    "By: Rafael M. Martins (rafael.martins@lnu.se)\n",
    "\n",
    "Official site with documentation and (many) more examples and tutorials: http://scikit-learn.org\n",
    "\n",
    "Some of the content in this notebook was reused or adapted from the excellent tutorial by Jake VanDerPlas (https://github.com/jakevdp/sklearn_tutorial)."
   ]
  },
  {
   "cell_type": "markdown",
   "metadata": {},
   "source": [
    "## Introduction\n",
    "\n",
    "Scikit-learn is a python library for machine learning that is not the fastest, not the most advanced, but (probably) the easiest to use and to get started with. With scikit-learn you can get a working model in a matter of minutes with a couple of lines of code."
   ]
  },
  {
   "cell_type": "code",
   "execution_count": 4,
   "metadata": {},
   "outputs": [],
   "source": [
    "from sklearn import datasets\n",
    "import matplotlib.pyplot as plt\n",
    "from sklearn import svm"
   ]
  },
  {
   "cell_type": "markdown",
   "metadata": {},
   "source": [
    "### Data Format\n",
    "\n",
    "The library comes with a few toy datasets that we can use to play with the Machine Learning (ML) models and learn how to use the correct classes and modules. These dataset objects have a `data` attribute that is a 2-D `numpy` array that stores the data itself, in the shape `(n_samples, n_features)`. \n",
    "\n",
    "- **n_samples:**   The number of samples: each sample is an item to process (e.g. classify).\n",
    "  A sample can be a document, a picture, a sound, a video, an astronomical object,\n",
    "  a row in database or CSV file,\n",
    "  or whatever you can describe with a fixed set of quantitative traits.\n",
    "- **n_features:**  The number of features or distinct traits that can be used to describe each\n",
    "  item in a quantitative manner.  Features are generally real-valued, but may be boolean or\n",
    "  discrete-valued in some cases.\n",
    "  \n",
    "![Data Layout](images/data-layout.png)\n",
    "\n",
    "(Figure from the [Python Data Science Handbook](https://github.com/jakevdp/PythonDataScienceHandbook))\n",
    "\n",
    "Below we load the `digits` dataset, which consists of a collection of low-resolution images of handwritten digits scanned from paper. The task is to identify which actual digit (0-9) they represent. One thing that is important to notice about this dataset is that the features are the gray-scale intensities of each pixel, but each bitmap (sample) is *flattened* into a 1-D vector. This is necessary because the input data in scikit-learn must always be in the shape `(samples, features)`."
   ]
  },
  {
   "cell_type": "code",
   "execution_count": 3,
   "metadata": {
    "scrolled": false
   },
   "outputs": [
    {
     "name": "stdout",
     "output_type": "stream",
     "text": [
      "Dataset: Handwritten digits\n",
      "\n",
      "Shape: (1797, 64) \n",
      "\n",
      "First sample:\n",
      " [ 0.  0.  5. 13.  9.  1.  0.  0.  0.  0. 13. 15. 10. 15.  5.  0.  0.  3.\n",
      " 15.  2.  0. 11.  8.  0.  0.  4. 12.  0.  0.  8.  8.  0.  0.  5.  8.  0.\n",
      "  0.  9.  8.  0.  0.  4. 11.  0.  1. 12.  7.  0.  0.  2. 14.  5. 10. 12.\n",
      "  0.  0.  0.  0.  6. 13. 10.  0.  0.  0.] \n",
      "\n",
      "Examples:\n"
     ]
    },
    {
     "data": {
      "image/png": "[encoded data removed]",
      "text/plain": [
       "<Figure size 1080x288 with 3 Axes>"
      ]
     },
     "metadata": {
      "needs_background": "light"
     },
     "output_type": "display_data"
    }
   ],
   "source": [
    "# Load the 'handwritten digits' dataset\n",
    "digits = datasets.load_digits()\n",
    "\n",
    "print('Dataset: Handwritten digits\\n')\n",
    "\n",
    "print('Shape:', digits.data.shape, '\\n')\n",
    "print('First sample:\\n', digits.data[0], '\\n')\n",
    "\n",
    "# The digits dataset also has an 'images' attribute with the actual reshaped pixels\n",
    "print('Examples:')\n",
    "fig = plt.figure(figsize=(15,4))\n",
    "for i in range(3):\n",
    "    ax = fig.add_subplot(1, 3, i+1)\n",
    "    #ax.imshow(digits.images[i], cmap=plt.cm.binary)\n",
    "    ax.imshow(digits.data[i].reshape(8,8), cmap=plt.cm.binary)\n",
    "    ax.set_title('Label:' + str(digits.target[i]))\n",
    "\n",
    "plt.show()"
   ]
  },
  {
   "cell_type": "markdown",
   "metadata": {},
   "source": [
    "Below we fit a simple Support Vector Machine (SVM) classifier using the features and the labels we have. The parameters are usually given when instantiating the model, but they can also be changed later with the method `set_params`. The classifier is trained with all but one of the samples, then we test the model with the sample that was left out."
   ]
  },
  {
   "cell_type": "code",
   "execution_count": 6,
   "metadata": {
    "scrolled": false
   },
   "outputs": [
    {
     "name": "stdout",
     "output_type": "stream",
     "text": [
      "Train Score: 1.0\n",
      "\n",
      "Test sample:\n"
     ]
    },
    {
     "data": {
      "image/png": "[encoded data removed]",
      "text/plain": [
       "<Figure size 432x288 with 1 Axes>"
      ]
     },
     "metadata": {
      "needs_background": "light"
     },
     "output_type": "display_data"
    },
    {
     "name": "stdout",
     "output_type": "stream",
     "text": [
      "Predicted: 5\n",
      "Test Score: 0.0\n"
     ]
    }
   ],
   "source": [
    "# Fit a very simple SVM classifier with all but one sample from the input data\n",
    "clf = svm.SVC(gamma='auto')\n",
    "\n",
    "X_train, y_train = digits.data[:-1], digits.target[:-1]\n",
    "\n",
    "clf.fit(X_train, y_train)\n",
    "\n",
    "# Check the score on the training set itself\n",
    "print('Train Score:', clf.score(X_train, y_train))\n",
    "\n",
    "X_test, y_test = [digits.data[-1]], [digits.target[-1]]\n",
    "\n",
    "# Predict the label for the last sample\n",
    "y = clf.predict(X_test)\n",
    "\n",
    "print('\\nTest sample:')\n",
    "plt.imshow(digits.data[-1].reshape(8,8), cmap=plt.cm.binary)\n",
    "plt.title('Label:' + str(y_test[0]))\n",
    "plt.show()\n",
    "\n",
    "print('Predicted:', y[0])\n",
    "print('Test Score:', clf.score(X_test, y_test))"
   ]
  },
  {
   "cell_type": "markdown",
   "metadata": {},
   "source": [
    "As you can see, the model performs perfectly with the training set, but fails with the first external sample we feed into it. This is because the model is *overfitted*, that is, it is optimized too much to work with the training data."
   ]
  },
  {
   "cell_type": "code",
   "execution_count": 10,
   "metadata": {},
   "outputs": [
    {
     "name": "stdout",
     "output_type": "stream",
     "text": [
      "Trying with new parameter settings...\n",
      "\n",
      "\n",
      "Test sample:\n"
     ]
    },
    {
     "data": {
      "image/png": "[encoded data removed]",
      "text/plain": [
       "<Figure size 432x288 with 1 Axes>"
      ]
     },
     "metadata": {
      "needs_background": "light"
     },
     "output_type": "display_data"
    },
    {
     "name": "stdout",
     "output_type": "stream",
     "text": [
      "Predicted: 8\n",
      "Train Score: 1.0\n",
      "Test Score: 1.0\n"
     ]
    }
   ],
   "source": [
    "# Let's try it with some different parameters\n",
    "print('Trying with new parameter settings...\\n')\n",
    "\n",
    "# You could've also simply instantiated a new object like this:\n",
    "#clf = svm.SVC(gamma=0.001, C=100.)\n",
    "\n",
    "# This kind of chaining works because most methods return the object itself\n",
    "y = clf.set_params(C=100., gamma=0.001).fit(X_train, y_train).predict(X_test)\n",
    "\n",
    "print('\\nTest sample:')\n",
    "plt.imshow(digits.data[-1].reshape(8,8), cmap=plt.cm.binary)\n",
    "plt.title('Label:' + str(y_test[0]))\n",
    "plt.show()\n",
    "\n",
    "print('Predicted:', y[0])\n",
    "print('Train Score:', clf.score(X_train, y_train))\n",
    "print('Test Score:', clf.score(X_test, y_test))"
   ]
  },
  {
   "cell_type": "markdown",
   "metadata": {},
   "source": [
    "A bit of hyperparameter tweaking and we already got a better result. Finding the right hyperparameters is not trivial, as their effect is usually not obvious (so it becomes a process of trial and error). In a future lecture we will see how to automate the hyperparameter search. \n",
    "\n",
    "The standardized API of scikit-learn is maybe its strongest selling point. Below we replace the classifier with another one simply by instantiating another class (notice that the rest of the method calls and the general workflow are mostly the same)."
   ]
  },
  {
   "cell_type": "code",
   "execution_count": 11,
   "metadata": {},
   "outputs": [
    {
     "name": "stdout",
     "output_type": "stream",
     "text": [
      "KNN classifier\n",
      "\n",
      "Length of training set: 1078\n",
      "Length of testing set: 719\n",
      "\n",
      "Training score: 0.9888682745825603\n",
      "Testing score: 0.9888734353268428\n",
      "\n",
      "Example of prob. prediction:\n",
      "[0.         0.33333333 0.         0.         0.66666667 0.\n",
      " 0.         0.         0.         0.        ]\n"
     ]
    }
   ],
   "source": [
    "from sklearn.model_selection import train_test_split\n",
    "from sklearn.neighbors import KNeighborsClassifier\n",
    "\n",
    "print('KNN classifier\\n')\n",
    "\n",
    "# Cross-validation; you could've done it yourself, but...\n",
    "X_train, X_test, y_train, y_test = train_test_split(\n",
    "    digits.data, digits.target, test_size=0.4, random_state=42)\n",
    "\n",
    "print('Length of training set:', len(X_train))\n",
    "print('Length of testing set:', len(X_test))\n",
    "\n",
    "knn = KNeighborsClassifier(n_neighbors=3)\n",
    "knn.fit(X_train, y_train)\n",
    "print('\\nTraining score:', knn.score(X_train, y_train))\n",
    "# Notice that I did not predict; it is not necessary, unless I want to use the predicted labels for something else\n",
    "print('Testing score:', knn.score(X_test, y_test))\n",
    "\n",
    "# It's also possible to do this with KNN:\n",
    "y_p = knn.predict_proba(X_test)\n",
    "print('\\nExample of prob. prediction:')\n",
    "print(y_p[535])"
   ]
  },
  {
   "cell_type": "markdown",
   "metadata": {},
   "source": [
    "In the above, the dataset has been broken down into the *training* set and the *testing* set, to avoid overfitting and to evaluate the real effectiveness of the model. This is good but, most of the time, not enough; unless you have a large amount of data, the training and testing sets might end up being too small. The K-fold cross validation done below is one of the ways to solve this problem."
   ]
  },
  {
   "cell_type": "code",
   "execution_count": null,
   "metadata": {},
   "outputs": [],
   "source": [
    "# K-fold cross-validation\n",
    "from sklearn.model_selection import cross_val_score, cross_val_predict\n",
    "\n",
    "clf_knn = KNeighborsClassifier(n_neighbors=3)\n",
    "scores = cross_val_score(clf_knn, digits.data, digits.target, cv=5)\n",
    "\n",
    "print('KNN')\n",
    "print(\"Accuracy: %0.5f (+/- %0.5f)\" % (scores.mean(), scores.std() * 2))\n",
    "\n",
    "clf_svm = svm.SVC(gamma=0.001, C=100.)\n",
    "scores = cross_val_score(clf_svm, digits.data, digits.target, cv=5)\n",
    "\n",
    "print('\\nSVM')\n",
    "print(\"Accuracy: %0.5f (+/- %0.5f)\" % (scores.mean(), scores.std() * 2))"
   ]
  },
  {
   "cell_type": "markdown",
   "metadata": {},
   "source": [
    "This should be enough to get you started with doing classification with scikit-learn. For more detailed information check https://scikit-learn.org/stable/supervised_learning.html.\n",
    "\n",
    "Sometimes the fitting of a classifier can take a long time, specially considering that K-fold cross validation repeats the process multiple times (and it gets worse when you are searching for good hyperparameter settings). It is very useful to be able to save the model after the fitting, so you can apply it later with unknown data. The `pickle` module allows you to do that in an easy way."
   ]
  },
  {
   "cell_type": "code",
   "execution_count": null,
   "metadata": {},
   "outputs": [],
   "source": [
    "import pickle\n",
    "\n",
    "# save to disk\n",
    "with open('.clf_svm', 'wb') as f:\n",
    "    pickle.dump(clf_svm, f)\n",
    "    \n",
    "# load from disk\n",
    "with open('.clf_svm', 'rb') as f:\n",
    "    clf_svm_loaded = pickle.load(f)\n",
    "\n",
    "scores = cross_val_score(clf_svm_loaded, digits.data, digits.target, cv=5)\n",
    "\n",
    "print(\"SVM model loaded from disk\")\n",
    "print(\"Accuracy: %0.5f (+/- %0.5f)\" % (scores.mean(), scores.std() * 2))\n"
   ]
  }
 ],
 "metadata": {
  "kernelspec": {
   "display_name": "Python 3",
   "language": "python",
   "name": "python3"
  },
  "language_info": {
   "codemirror_mode": {
    "name": "ipython",
    "version": 3
   },
   "file_extension": ".py",
   "mimetype": "text/x-python",
   "name": "python",
   "nbconvert_exporter": "python",
   "pygments_lexer": "ipython3",
   "version": "3.7.6"
  }
 },
 "nbformat": 4,
 "nbformat_minor": 2
}
