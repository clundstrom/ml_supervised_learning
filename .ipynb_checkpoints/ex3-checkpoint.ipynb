{
 "cells": [
  {
   "cell_type": "markdown",
   "metadata": {
    "collapsed": true,
    "pycharm": {
     "name": "#%% md\n"
    }
   },
   "source": [
    "### 3. Counting facebook comments\n",
    "\n",
    "##### 1.1  Decision tree regressor\n",
    "\n",
    "Calculation of training MSE and test MSE on dataset fbtrain and fbtest."
   ]
  },
  {
   "cell_type": "code",
   "execution_count": 7,
   "metadata": {
    "pycharm": {
     "is_executing": false,
     "name": "#%%\n"
    }
   },
   "outputs": [],
   "source": [
    "import numpy as np\n",
    "from os import path\n",
    "from sklearn.tree import DecisionTreeRegressor\n",
    "from sklearn.ensemble import RandomForestRegressor\n",
    "from sklearn import preprocessing as pp\n",
    "from sklearn.model_selection import GridSearchCV\n",
    "from sklearn.metrics import mean_squared_error\n",
    "\n",
    "data_train = np.genfromtxt(path.join('data/fbtrain.csv'), delimiter=',', dtype=float)\n",
    "data_test = np.genfromtxt(path.join('data/fbtest.csv'), delimiter=',', dtype=float)\n",
    "\n",
    "# Specify X and y\n",
    "X_train, y_train = np.array(data_train[:, 0:53]), np.array(data_train[:, 53])\n",
    "X_test, y_test = np.array(data_test[:, 0:53]), np.array(data_test[:, 53])\n",
    "\n",
    "# Normalize data\n",
    "scaler = pp.StandardScaler().fit(X_train)\n",
    "Xn_train = scaler.transform(X_train)\n",
    "Xn_test = scaler.transform(X_test)\n",
    "\n",
    "# Prepare parameter search\n",
    "grid = np.arange(1, 11, 1)  # try depths up to 10\n",
    "params = {'max_depth': grid}"
   ]
  },
  {
   "cell_type": "markdown",
   "metadata": {},
   "source": [
    "##### Decision tree Regressor\n",
    "\n",
    "Finding the best parameters on training set using GridSearchCV."
   ]
  },
  {
   "cell_type": "code",
   "execution_count": 8,
   "metadata": {
    "pycharm": {
     "is_executing": false,
     "name": "#%%\n"
    }
   },
   "outputs": [
    {
     "name": "stdout",
     "output_type": "stream",
     "text": [
      "Best param: {'max_depth': 4}, cross val score:  490.0561947243723\n",
      "Test R2 coeff:  0.2801276852449447\n",
      "MSE:  5082.224467309503\n"
     ]
    }
   ],
   "source": [
    "clf_search = GridSearchCV(DecisionTreeRegressor(random_state=10), params, scoring='neg_mean_squared_error')\n",
    "clf_search.fit(Xn_train, y_train)\n",
    "\n",
    "# Cross validation\n",
    "score = clf_search.score(Xn_train, y_train)\n",
    "print(f\"Best param: {clf_search.best_params_}, cross val score: \", score*-1)\n",
    "\n",
    "# Test error\n",
    "clf = clf_search.best_estimator_\n",
    "\n",
    "score = clf.score(Xn_test, y_test)\n",
    "print(\"Test R2 coeff: \", score)\n",
    "y_pred = clf.predict(Xn_test)\n",
    "mse =  mean_squared_error(y_test, y_pred)\n",
    "print(\"MSE: \", mse)"
   ]
  },
  {
   "cell_type": "markdown",
   "metadata": {},
   "source": [
    "##### 1.2 Random forest Regressor"
   ]
  },
  {
   "cell_type": "code",
   "execution_count": 9,
   "metadata": {
    "pycharm": {
     "is_executing": true,
     "name": "#%%\n"
    }
   },
   "outputs": [
    {
     "name": "stdout",
     "output_type": "stream",
     "text": [
      "Best param: {'max_depth': 10}, cross val score:  94.99359362341939\n",
      "Test R2 coeff:  0.3705574019038712\n",
      "MSE:  4443.799972915326\n"
     ]
    }
   ],
   "source": [
    "# Random forest\n",
    "clf = RandomForestRegressor(random_state=10)\n",
    "clf_search = GridSearchCV(clf, params, scoring='neg_mean_squared_error')\n",
    "clf_search.fit(Xn_train, y_train)\n",
    "\n",
    "# Cross validation\n",
    "score = clf_search.score(Xn_train, y_train)\n",
    "print(f\"Best param: {clf_search.best_params_}, cross val score: \", score*-1)\n",
    "\n",
    "clf = clf_search.best_estimator_\n",
    "score = clf.score(Xn_test, y_test)\n",
    "print(\"Test R2 coeff: \", score)\n",
    "y_pred = clf.predict(Xn_test)\n",
    "mse =  mean_squared_error(y_test, y_pred)\n",
    "print(\"MSE: \", mse)\n"
   ]
  },
  {
   "cell_type": "markdown",
   "metadata": {},
   "source": [
    "##### 1.3 Filter h = 24 and repeating of task 1 and 2."
   ]
  },
  {
   "cell_type": "code",
   "execution_count": 10,
   "metadata": {
    "pycharm": {
     "is_executing": true,
     "name": "#%%\n"
    }
   },
   "outputs": [
    {
     "data": {
      "text/plain": [
       "DecisionTreeRegressor(ccp_alpha=0.0, criterion='mse', max_depth=5,\n",
       "                      max_features=None, max_leaf_nodes=None,\n",
       "                      min_impurity_decrease=0.0, min_impurity_split=None,\n",
       "                      min_samples_leaf=1, min_samples_split=2,\n",
       "                      min_weight_fraction_leaf=0.0, presort='deprecated',\n",
       "                      random_state=10, splitter='best')"
      ]
     },
     "execution_count": 10,
     "metadata": {},
     "output_type": "execute_result"
    }
   ],
   "source": [
    "filtered_train = np.array(data_train[data_train[:, 38] == 24])\n",
    "filtered_test = np.array(data_test[data_test[:, 38] == 24])\n",
    "\n",
    "X_train, y_train = np.array(filtered_train[:, 0:53]), np.array(filtered_train[:, 53])\n",
    "X_test, y_test = np.array(filtered_test[:, 0:53]), np.array(filtered_test[:, 53])\n",
    "\n",
    "scaler = pp.StandardScaler().fit(X_train)\n",
    "Xn_train = scaler.transform(X_train)\n",
    "Xn_test = scaler.transform(X_test)\n",
    "\n",
    "# Instantiate DTC\n",
    "clf = DecisionTreeRegressor(max_depth=5, random_state=10)  # 5 best, 0.94\n",
    "clf.fit(Xn_train, y_train)\n"
   ]
  },
  {
   "cell_type": "markdown",
   "metadata": {},
   "source": [
    "##### 1.3 Decision tree regressor"
   ]
  },
  {
   "cell_type": "code",
   "execution_count": 11,
   "metadata": {
    "pycharm": {
     "is_executing": true,
     "name": "#%%\n"
    }
   },
   "outputs": [
    {
     "name": "stdout",
     "output_type": "stream",
     "text": [
      "Best param: {'max_depth': 5}, cross val score:  390.32301620368185\n",
      "Test R2 coeff:  0.9439761350935097\n",
      "MSE:  201.25408233000837\n"
     ]
    }
   ],
   "source": [
    "clf_search = GridSearchCV(DecisionTreeRegressor(random_state=10), params, scoring='neg_mean_squared_error')\n",
    "clf_search.fit(Xn_train, y_train)\n",
    "\n",
    "# Cross validation\n",
    "score = clf_search.score(Xn_train, y_train)\n",
    "print(f\"Best param: {clf_search.best_params_}, cross val score: \", score*-1)\n",
    "\n",
    "# Test error\n",
    "clf = clf_search.best_estimator_\n",
    "score = clf.score(Xn_test, y_test)\n",
    "print(\"Test R2 coeff: \", score)\n",
    "y_pred = clf.predict(Xn_test)\n",
    "mse =  mean_squared_error(y_test, y_pred)\n",
    "print(\"MSE: \", mse)\n"
   ]
  },
  {
   "cell_type": "markdown",
   "metadata": {},
   "source": [
    "##### 1.3 Random forest regressor"
   ]
  },
  {
   "cell_type": "code",
   "execution_count": 12,
   "metadata": {
    "pycharm": {
     "is_executing": true,
     "name": "#%%\n"
    }
   },
   "outputs": [
    {
     "name": "stdout",
     "output_type": "stream",
     "text": [
      "Best param: {'max_depth': 10}, cross val score:  95.49132365904336\n",
      "Test R2 coeff:  0.9261661871654385\n",
      "MSE:  265.232615988688\n"
     ]
    }
   ],
   "source": [
    "# Random forest\n",
    "clf = RandomForestRegressor(random_state=10)\n",
    "clf_search = GridSearchCV(clf, params, scoring='neg_mean_squared_error')\n",
    "clf_search.fit(Xn_train, y_train)\n",
    "\n",
    "# Cross validation\n",
    "score = clf_search.score(Xn_train, y_train)\n",
    "print(f\"Best param: {clf_search.best_params_}, cross val score: \", score*-1)\n",
    "\n",
    "clf = clf_search.best_estimator_\n",
    "score = clf.score(Xn_test, y_test)\n",
    "print(\"Test R2 coeff: \", score)\n",
    "y_pred = clf.predict(Xn_test)\n",
    "mse =  mean_squared_error(y_test, y_pred)\n",
    "print(\"MSE: \", mse)\n"
   ]
  },
  {
   "cell_type": "code",
   "execution_count": null,
   "metadata": {
    "pycharm": {
     "is_executing": true
    }
   },
   "outputs": [],
   "source": []
  }
 ],
 "metadata": {
  "kernelspec": {
   "display_name": "Python 3",
   "language": "python",
   "name": "python3"
  },
  "language_info": {
   "codemirror_mode": {
    "name": "ipython",
    "version": 3
   },
   "file_extension": ".py",
   "mimetype": "text/x-python",
   "name": "python",
   "nbconvert_exporter": "python",
   "pygments_lexer": "ipython3",
   "version": "3.7.6"
  },
  "pycharm": {
   "stem_cell": {
    "cell_type": "raw",
    "metadata": {
     "collapsed": false
    },
    "source": []
   }
  }
 },
 "nbformat": 4,
 "nbformat_minor": 1
}
